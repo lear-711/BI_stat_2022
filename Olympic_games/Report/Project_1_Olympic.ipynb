{
 "cells": [
  {
   "cell_type": "markdown",
   "id": "b500b9d4",
   "metadata": {},
   "source": [
    "# Data preparation"
   ]
  },
  {
   "cell_type": "markdown",
   "id": "6ee77814",
   "metadata": {},
   "source": [
    "### 1. Function that combines all files of a specific extension from a given folder:"
   ]
  },
  {
   "cell_type": "code",
   "execution_count": 255,
   "id": "931445c5",
   "metadata": {},
   "outputs": [],
   "source": [
    "import pandas as pd\n",
    "import numpy as np\n",
    "import glob\n",
    "from sklearn import preprocessing\n",
    "import matplotlib.pyplot as plt\n",
    "import seaborn as sns\n",
    "from sklearn.preprocessing import MinMaxScaler"
   ]
  },
  {
   "cell_type": "code",
   "execution_count": 256,
   "id": "afba41e4",
   "metadata": {},
   "outputs": [],
   "source": [
    "def combine_files(ext, path_to_folder):\n",
    "    files = glob.glob(path_to_folder + f\"/*.{ext}\")\n",
    "    \n",
    "    data_frame = pd.DataFrame() # create empty dataframe\n",
    "    \n",
    "    for file in files:\n",
    "        df = pd.read_csv(file, index_col=None)\n",
    "        data_frame = pd.concat([data_frame, df])\n",
    "    return data_frame"
   ]
  },
  {
   "cell_type": "code",
   "execution_count": 257,
   "id": "f2023e99",
   "metadata": {},
   "outputs": [],
   "source": [
    "data = combine_files(ext = 'csv', path_to_folder = 'athlete_events')"
   ]
  },
  {
   "cell_type": "code",
   "execution_count": 258,
   "id": "6e888c18",
   "metadata": {},
   "outputs": [
    {
     "data": {
      "text/html": [
       "<div>\n",
       "<style scoped>\n",
       "    .dataframe tbody tr th:only-of-type {\n",
       "        vertical-align: middle;\n",
       "    }\n",
       "\n",
       "    .dataframe tbody tr th {\n",
       "        vertical-align: top;\n",
       "    }\n",
       "\n",
       "    .dataframe thead th {\n",
       "        text-align: right;\n",
       "    }\n",
       "</style>\n",
       "<table border=\"1\" class=\"dataframe\">\n",
       "  <thead>\n",
       "    <tr style=\"text-align: right;\">\n",
       "      <th></th>\n",
       "      <th>ID</th>\n",
       "      <th>Name</th>\n",
       "      <th>Sex</th>\n",
       "      <th>Age</th>\n",
       "      <th>Height</th>\n",
       "      <th>Weight</th>\n",
       "      <th>Team</th>\n",
       "      <th>NOC</th>\n",
       "      <th>Games</th>\n",
       "      <th>Year</th>\n",
       "      <th>Season</th>\n",
       "      <th>City</th>\n",
       "      <th>Sport</th>\n",
       "      <th>Event</th>\n",
       "      <th>Medal</th>\n",
       "    </tr>\n",
       "  </thead>\n",
       "  <tbody>\n",
       "    <tr>\n",
       "      <th>0</th>\n",
       "      <td>91138</td>\n",
       "      <td>Anton Dmitriyevich Pantov</td>\n",
       "      <td>M</td>\n",
       "      <td>22.0</td>\n",
       "      <td>187.0</td>\n",
       "      <td>77.0</td>\n",
       "      <td>Kazakhstan</td>\n",
       "      <td>KAZ</td>\n",
       "      <td>2014 Winter</td>\n",
       "      <td>2014.0</td>\n",
       "      <td>Winter</td>\n",
       "      <td>Sochi</td>\n",
       "      <td>Biathlon</td>\n",
       "      <td>Biathlon Men's 10 kilometres Sprint</td>\n",
       "      <td>NaN</td>\n",
       "    </tr>\n",
       "    <tr>\n",
       "      <th>1</th>\n",
       "      <td>91138</td>\n",
       "      <td>Anton Dmitriyevich Pantov</td>\n",
       "      <td>M</td>\n",
       "      <td>22.0</td>\n",
       "      <td>187.0</td>\n",
       "      <td>77.0</td>\n",
       "      <td>Kazakhstan</td>\n",
       "      <td>KAZ</td>\n",
       "      <td>2014 Winter</td>\n",
       "      <td>2014.0</td>\n",
       "      <td>Winter</td>\n",
       "      <td>Sochi</td>\n",
       "      <td>Biathlon</td>\n",
       "      <td>Biathlon Mixed 2 x 6 kilometres and 2 x 7.5 ki...</td>\n",
       "      <td>NaN</td>\n",
       "    </tr>\n",
       "    <tr>\n",
       "      <th>2</th>\n",
       "      <td>91138</td>\n",
       "      <td>Anton Dmitriyevich Pantov</td>\n",
       "      <td>M</td>\n",
       "      <td>22.0</td>\n",
       "      <td>187.0</td>\n",
       "      <td>77.0</td>\n",
       "      <td>Kazakhstan</td>\n",
       "      <td>KAZ</td>\n",
       "      <td>2014 Winter</td>\n",
       "      <td>2014.0</td>\n",
       "      <td>Winter</td>\n",
       "      <td>Sochi</td>\n",
       "      <td>Biathlon</td>\n",
       "      <td>Biathlon Men's 20 kilometres</td>\n",
       "      <td>NaN</td>\n",
       "    </tr>\n",
       "    <tr>\n",
       "      <th>3</th>\n",
       "      <td>91138</td>\n",
       "      <td>Anton Dmitriyevich Pantov</td>\n",
       "      <td>M</td>\n",
       "      <td>22.0</td>\n",
       "      <td>187.0</td>\n",
       "      <td>77.0</td>\n",
       "      <td>Kazakhstan</td>\n",
       "      <td>KAZ</td>\n",
       "      <td>2014 Winter</td>\n",
       "      <td>2014.0</td>\n",
       "      <td>Winter</td>\n",
       "      <td>Sochi</td>\n",
       "      <td>Biathlon</td>\n",
       "      <td>Biathlon Men's 4 x 7.5 kilometres Relay</td>\n",
       "      <td>NaN</td>\n",
       "    </tr>\n",
       "    <tr>\n",
       "      <th>4</th>\n",
       "      <td>91139</td>\n",
       "      <td>Dmitry Anatolyevich Pantov</td>\n",
       "      <td>M</td>\n",
       "      <td>24.0</td>\n",
       "      <td>190.0</td>\n",
       "      <td>85.0</td>\n",
       "      <td>Kazakhstan</td>\n",
       "      <td>KAZ</td>\n",
       "      <td>1994 Winter</td>\n",
       "      <td>1994.0</td>\n",
       "      <td>Winter</td>\n",
       "      <td>Lillehammer</td>\n",
       "      <td>Biathlon</td>\n",
       "      <td>Biathlon Men's 10 kilometres Sprint</td>\n",
       "      <td>NaN</td>\n",
       "    </tr>\n",
       "    <tr>\n",
       "      <th>5</th>\n",
       "      <td>91139</td>\n",
       "      <td>Dmitry Anatolyevich Pantov</td>\n",
       "      <td>M</td>\n",
       "      <td>24.0</td>\n",
       "      <td>190.0</td>\n",
       "      <td>85.0</td>\n",
       "      <td>Kazakhstan</td>\n",
       "      <td>KAZ</td>\n",
       "      <td>1994 Winter</td>\n",
       "      <td>1994.0</td>\n",
       "      <td>Winter</td>\n",
       "      <td>Lillehammer</td>\n",
       "      <td>Biathlon</td>\n",
       "      <td>Biathlon Men's 20 kilometres</td>\n",
       "      <td>NaN</td>\n",
       "    </tr>\n",
       "    <tr>\n",
       "      <th>6</th>\n",
       "      <td>91139</td>\n",
       "      <td>Dmitry Anatolyevich Pantov</td>\n",
       "      <td>M</td>\n",
       "      <td>28.0</td>\n",
       "      <td>190.0</td>\n",
       "      <td>85.0</td>\n",
       "      <td>Kazakhstan</td>\n",
       "      <td>KAZ</td>\n",
       "      <td>1998 Winter</td>\n",
       "      <td>1998.0</td>\n",
       "      <td>Winter</td>\n",
       "      <td>Nagano</td>\n",
       "      <td>Biathlon</td>\n",
       "      <td>Biathlon Men's 10 kilometres Sprint</td>\n",
       "      <td>NaN</td>\n",
       "    </tr>\n",
       "    <tr>\n",
       "      <th>7</th>\n",
       "      <td>91139</td>\n",
       "      <td>Dmitry Anatolyevich Pantov</td>\n",
       "      <td>M</td>\n",
       "      <td>28.0</td>\n",
       "      <td>190.0</td>\n",
       "      <td>85.0</td>\n",
       "      <td>Kazakhstan</td>\n",
       "      <td>KAZ</td>\n",
       "      <td>1998 Winter</td>\n",
       "      <td>1998.0</td>\n",
       "      <td>Winter</td>\n",
       "      <td>Nagano</td>\n",
       "      <td>Biathlon</td>\n",
       "      <td>Biathlon Men's 20 kilometres</td>\n",
       "      <td>NaN</td>\n",
       "    </tr>\n",
       "    <tr>\n",
       "      <th>8</th>\n",
       "      <td>91139</td>\n",
       "      <td>Dmitry Anatolyevich Pantov</td>\n",
       "      <td>M</td>\n",
       "      <td>28.0</td>\n",
       "      <td>190.0</td>\n",
       "      <td>85.0</td>\n",
       "      <td>Kazakhstan</td>\n",
       "      <td>KAZ</td>\n",
       "      <td>1998 Winter</td>\n",
       "      <td>1998.0</td>\n",
       "      <td>Winter</td>\n",
       "      <td>Nagano</td>\n",
       "      <td>Biathlon</td>\n",
       "      <td>Biathlon Men's 4 x 7.5 kilometres Relay</td>\n",
       "      <td>NaN</td>\n",
       "    </tr>\n",
       "    <tr>\n",
       "      <th>9</th>\n",
       "      <td>91139</td>\n",
       "      <td>Dmitry Anatolyevich Pantov</td>\n",
       "      <td>M</td>\n",
       "      <td>32.0</td>\n",
       "      <td>190.0</td>\n",
       "      <td>85.0</td>\n",
       "      <td>Kazakhstan</td>\n",
       "      <td>KAZ</td>\n",
       "      <td>2002 Winter</td>\n",
       "      <td>2002.0</td>\n",
       "      <td>Winter</td>\n",
       "      <td>Salt Lake City</td>\n",
       "      <td>Biathlon</td>\n",
       "      <td>Biathlon Men's 10 kilometres Sprint</td>\n",
       "      <td>NaN</td>\n",
       "    </tr>\n",
       "  </tbody>\n",
       "</table>\n",
       "</div>"
      ],
      "text/plain": [
       "      ID                        Name Sex   Age  Height  Weight        Team  \\\n",
       "0  91138   Anton Dmitriyevich Pantov   M  22.0   187.0    77.0  Kazakhstan   \n",
       "1  91138   Anton Dmitriyevich Pantov   M  22.0   187.0    77.0  Kazakhstan   \n",
       "2  91138   Anton Dmitriyevich Pantov   M  22.0   187.0    77.0  Kazakhstan   \n",
       "3  91138   Anton Dmitriyevich Pantov   M  22.0   187.0    77.0  Kazakhstan   \n",
       "4  91139  Dmitry Anatolyevich Pantov   M  24.0   190.0    85.0  Kazakhstan   \n",
       "5  91139  Dmitry Anatolyevich Pantov   M  24.0   190.0    85.0  Kazakhstan   \n",
       "6  91139  Dmitry Anatolyevich Pantov   M  28.0   190.0    85.0  Kazakhstan   \n",
       "7  91139  Dmitry Anatolyevich Pantov   M  28.0   190.0    85.0  Kazakhstan   \n",
       "8  91139  Dmitry Anatolyevich Pantov   M  28.0   190.0    85.0  Kazakhstan   \n",
       "9  91139  Dmitry Anatolyevich Pantov   M  32.0   190.0    85.0  Kazakhstan   \n",
       "\n",
       "   NOC        Games    Year  Season            City     Sport  \\\n",
       "0  KAZ  2014 Winter  2014.0  Winter           Sochi  Biathlon   \n",
       "1  KAZ  2014 Winter  2014.0  Winter           Sochi  Biathlon   \n",
       "2  KAZ  2014 Winter  2014.0  Winter           Sochi  Biathlon   \n",
       "3  KAZ  2014 Winter  2014.0  Winter           Sochi  Biathlon   \n",
       "4  KAZ  1994 Winter  1994.0  Winter     Lillehammer  Biathlon   \n",
       "5  KAZ  1994 Winter  1994.0  Winter     Lillehammer  Biathlon   \n",
       "6  KAZ  1998 Winter  1998.0  Winter          Nagano  Biathlon   \n",
       "7  KAZ  1998 Winter  1998.0  Winter          Nagano  Biathlon   \n",
       "8  KAZ  1998 Winter  1998.0  Winter          Nagano  Biathlon   \n",
       "9  KAZ  2002 Winter  2002.0  Winter  Salt Lake City  Biathlon   \n",
       "\n",
       "                                               Event Medal  \n",
       "0                Biathlon Men's 10 kilometres Sprint   NaN  \n",
       "1  Biathlon Mixed 2 x 6 kilometres and 2 x 7.5 ki...   NaN  \n",
       "2                       Biathlon Men's 20 kilometres   NaN  \n",
       "3            Biathlon Men's 4 x 7.5 kilometres Relay   NaN  \n",
       "4                Biathlon Men's 10 kilometres Sprint   NaN  \n",
       "5                       Biathlon Men's 20 kilometres   NaN  \n",
       "6                Biathlon Men's 10 kilometres Sprint   NaN  \n",
       "7                       Biathlon Men's 20 kilometres   NaN  \n",
       "8            Biathlon Men's 4 x 7.5 kilometres Relay   NaN  \n",
       "9                Biathlon Men's 10 kilometres Sprint   NaN  "
      ]
     },
     "execution_count": 258,
     "metadata": {},
     "output_type": "execute_result"
    }
   ],
   "source": [
    "data.head(10)"
   ]
  },
  {
   "cell_type": "markdown",
   "id": "c1181fb2",
   "metadata": {},
   "source": [
    "# EDA"
   ]
  },
  {
   "cell_type": "markdown",
   "id": "e905f31a",
   "metadata": {},
   "source": [
    "### 2. Check the correctness of the data:"
   ]
  },
  {
   "cell_type": "code",
   "execution_count": 259,
   "id": "3db64191",
   "metadata": {},
   "outputs": [
    {
     "name": "stdout",
     "output_type": "stream",
     "text": [
      "<class 'pandas.core.frame.DataFrame'>\n",
      "Int64Index: 271115 entries, 0 to 22390\n",
      "Data columns (total 15 columns):\n",
      " #   Column  Non-Null Count   Dtype  \n",
      "---  ------  --------------   -----  \n",
      " 0   ID      271115 non-null  int64  \n",
      " 1   Name    271114 non-null  object \n",
      " 2   Sex     271113 non-null  object \n",
      " 3   Age     261639 non-null  float64\n",
      " 4   Height  210943 non-null  float64\n",
      " 5   Weight  208239 non-null  float64\n",
      " 6   Team    271112 non-null  object \n",
      " 7   NOC     271111 non-null  object \n",
      " 8   Games   271110 non-null  object \n",
      " 9   Year    271108 non-null  float64\n",
      " 10  Season  271108 non-null  object \n",
      " 11  City    271108 non-null  object \n",
      " 12  Sport   271108 non-null  object \n",
      " 13  Event   271107 non-null  object \n",
      " 14  Medal   39782 non-null   object \n",
      "dtypes: float64(4), int64(1), object(10)\n",
      "memory usage: 33.1+ MB\n"
     ]
    }
   ],
   "source": [
    "data.info()"
   ]
  },
  {
   "cell_type": "markdown",
   "id": "b0dc1237",
   "metadata": {},
   "source": [
    "### Replace string values into numbers"
   ]
  },
  {
   "cell_type": "markdown",
   "id": "ef2d332c",
   "metadata": {},
   "source": [
    "Count values in column **Season** and replace string values into numbers: **Summer = 0**, **Winter = 1**:"
   ]
  },
  {
   "cell_type": "code",
   "execution_count": 260,
   "id": "49504619",
   "metadata": {},
   "outputs": [
    {
     "data": {
      "text/plain": [
       "Summer    222544\n",
       "Winter     48564\n",
       "Name: Season, dtype: int64"
      ]
     },
     "execution_count": 260,
     "metadata": {},
     "output_type": "execute_result"
    }
   ],
   "source": [
    "data['Season'].value_counts()"
   ]
  },
  {
   "cell_type": "code",
   "execution_count": 261,
   "id": "949678eb",
   "metadata": {},
   "outputs": [],
   "source": [
    "data[\"Season\"] = data[\"Season\"].replace({'Summer':0, 'Winter':1})"
   ]
  },
  {
   "cell_type": "markdown",
   "id": "6b5d1b98",
   "metadata": {},
   "source": [
    "Count values in column **Sex** and replace string values into numbers: **M = 0**, **F = 1**, **G = 2**:"
   ]
  },
  {
   "cell_type": "code",
   "execution_count": 262,
   "id": "ed607b1c",
   "metadata": {},
   "outputs": [
    {
     "data": {
      "text/plain": [
       "M    196588\n",
       "F     74523\n",
       "G         2\n",
       "Name: Sex, dtype: int64"
      ]
     },
     "execution_count": 262,
     "metadata": {},
     "output_type": "execute_result"
    }
   ],
   "source": [
    "data['Sex'].value_counts()"
   ]
  },
  {
   "cell_type": "code",
   "execution_count": 263,
   "id": "a13dbd9c",
   "metadata": {},
   "outputs": [],
   "source": [
    "data[\"Sex\"] = data[\"Sex\"].replace({'M':0, 'F':1, 'G':2})"
   ]
  },
  {
   "cell_type": "markdown",
   "id": "f50956a5",
   "metadata": {},
   "source": [
    "Count values in column **Medal** and replace string values into numbers: **Gold = 0**, **Silver = 1**, **Bronze = 2**:"
   ]
  },
  {
   "cell_type": "code",
   "execution_count": 264,
   "id": "bfcd46c0",
   "metadata": {},
   "outputs": [
    {
     "data": {
      "text/plain": [
       "Gold      13372\n",
       "Bronze    13295\n",
       "Silver    13115\n",
       "Name: Medal, dtype: int64"
      ]
     },
     "execution_count": 264,
     "metadata": {},
     "output_type": "execute_result"
    }
   ],
   "source": [
    "data['Medal'].value_counts()"
   ]
  },
  {
   "cell_type": "code",
   "execution_count": 265,
   "id": "16fb0dbd",
   "metadata": {},
   "outputs": [],
   "source": [
    "data[\"Medal\"] = data[\"Medal\"].replace({'Gold':0, 'Silver':1, 'Bronze':2})"
   ]
  },
  {
   "cell_type": "markdown",
   "id": "895d27d1",
   "metadata": {},
   "source": [
    "### Remove NA values:"
   ]
  },
  {
   "cell_type": "markdown",
   "id": "f204263a",
   "metadata": {},
   "source": [
    "Count **NA values**:"
   ]
  },
  {
   "cell_type": "code",
   "execution_count": 266,
   "id": "a47dc345",
   "metadata": {},
   "outputs": [
    {
     "data": {
      "text/plain": [
       "ID             0\n",
       "Name           1\n",
       "Sex            2\n",
       "Age         9476\n",
       "Height     60172\n",
       "Weight     62876\n",
       "Team           3\n",
       "NOC            4\n",
       "Games          5\n",
       "Year           7\n",
       "Season         7\n",
       "City           7\n",
       "Sport          7\n",
       "Event          8\n",
       "Medal     231333\n",
       "dtype: int64"
      ]
     },
     "execution_count": 266,
     "metadata": {},
     "output_type": "execute_result"
    }
   ],
   "source": [
    "data.isna().sum()"
   ]
  },
  {
   "cell_type": "markdown",
   "id": "99d88e21",
   "metadata": {},
   "source": [
    "We can delete NA values in columns **Name, Sex, Team, NOC, Games, Year, Season, City, Sport, Event** because there are very few of them:"
   ]
  },
  {
   "cell_type": "code",
   "execution_count": 267,
   "id": "36c87146",
   "metadata": {},
   "outputs": [],
   "source": [
    "data = data.dropna(subset=['Name', 'Sex', 'Team', 'NOC', 'Games', 'Year', 'Season', 'City', 'Sport', 'Event'])"
   ]
  },
  {
   "cell_type": "markdown",
   "id": "bcde976d",
   "metadata": {},
   "source": [
    "As there are many NA values in variable **Medal**, we can't remove it at all, so we decided to write all such values into number = 3"
   ]
  },
  {
   "cell_type": "code",
   "execution_count": 268,
   "id": "36bc01cd",
   "metadata": {},
   "outputs": [],
   "source": [
    "data['Medal'] = data['Medal'].fillna(3)"
   ]
  },
  {
   "cell_type": "markdown",
   "id": "a049708c",
   "metadata": {},
   "source": [
    "Look at the distribution of 3 variables: **Age, Height, Weight**:"
   ]
  },
  {
   "cell_type": "code",
   "execution_count": 269,
   "id": "b8758ab8",
   "metadata": {
    "scrolled": false
   },
   "outputs": [
    {
     "data": {
      "text/plain": [
       "Text(0.5, 0, 'Weight (in kg)')"
      ]
     },
     "execution_count": 269,
     "metadata": {},
     "output_type": "execute_result"
    },
    {
     "data": {
      "image/png": "[encoded data removed]",
      "text/plain": [
       "<Figure size 1300x400 with 3 Axes>"
      ]
     },
     "metadata": {},
     "output_type": "display_data"
    }
   ],
   "source": [
    "fig, axes = plt.subplots(nrows=1, ncols=3, figsize=(13, 4))\n",
    "\n",
    "axes[0].hist(data['Age'], bins = 40)\n",
    "axes[0].set_title(\"Distribution of Age\")\n",
    "axes[0].set_xlabel(\"Age (in years)\")\n",
    "\n",
    "axes[1].hist(data['Height'], bins = 40)\n",
    "axes[1].set_title(\"Distribution of Height\")\n",
    "axes[1].set_xlabel(\"Height (in sm)\")\n",
    "\n",
    "axes[2].hist(data['Weight'], bins = 40)\n",
    "axes[2].set_title(\"Distribution of Weight\")\n",
    "axes[2].set_xlabel(\"Weight (in kg)\")"
   ]
  },
  {
   "cell_type": "markdown",
   "id": "e17ccb8f",
   "metadata": {},
   "source": [
    "There are a lot of NA values, so we can't remove them (we will lost many observations).\n",
    "\n",
    "Fill NA in variables **Age, Height, Weight** with their **medians**:"
   ]
  },
  {
   "cell_type": "code",
   "execution_count": 270,
   "id": "7696ac7e",
   "metadata": {},
   "outputs": [],
   "source": [
    "data_men = data[(data['Sex'] == 0) | (data['Sex'] == 2)]\n",
    "data_women = data[data['Sex'] == 1]"
   ]
  },
  {
   "cell_type": "code",
   "execution_count": 271,
   "id": "9d44f8e5",
   "metadata": {},
   "outputs": [
    {
     "name": "stderr",
     "output_type": "stream",
     "text": [
      "/var/folders/_y/cf4dygc14qx9g7l_tls72w940000gn/T/ipykernel_625/2133159366.py:1: SettingWithCopyWarning: \n",
      "A value is trying to be set on a copy of a slice from a DataFrame.\n",
      "Try using .loc[row_indexer,col_indexer] = value instead\n",
      "\n",
      "See the caveats in the documentation: https://pandas.pydata.org/pandas-docs/stable/user_guide/indexing.html#returning-a-view-versus-a-copy\n",
      "  data_men['Age'] = data_men['Age'].fillna(data_men['Age'].median())\n",
      "/var/folders/_y/cf4dygc14qx9g7l_tls72w940000gn/T/ipykernel_625/2133159366.py:2: SettingWithCopyWarning: \n",
      "A value is trying to be set on a copy of a slice from a DataFrame.\n",
      "Try using .loc[row_indexer,col_indexer] = value instead\n",
      "\n",
      "See the caveats in the documentation: https://pandas.pydata.org/pandas-docs/stable/user_guide/indexing.html#returning-a-view-versus-a-copy\n",
      "  data_women['Age'] = data_women['Age'].fillna(data_women['Age'].median())\n",
      "/var/folders/_y/cf4dygc14qx9g7l_tls72w940000gn/T/ipykernel_625/2133159366.py:4: SettingWithCopyWarning: \n",
      "A value is trying to be set on a copy of a slice from a DataFrame.\n",
      "Try using .loc[row_indexer,col_indexer] = value instead\n",
      "\n",
      "See the caveats in the documentation: https://pandas.pydata.org/pandas-docs/stable/user_guide/indexing.html#returning-a-view-versus-a-copy\n",
      "  data_men['Height'] = data_men['Height'].fillna(data_men['Height'].median())\n",
      "/var/folders/_y/cf4dygc14qx9g7l_tls72w940000gn/T/ipykernel_625/2133159366.py:5: SettingWithCopyWarning: \n",
      "A value is trying to be set on a copy of a slice from a DataFrame.\n",
      "Try using .loc[row_indexer,col_indexer] = value instead\n",
      "\n",
      "See the caveats in the documentation: https://pandas.pydata.org/pandas-docs/stable/user_guide/indexing.html#returning-a-view-versus-a-copy\n",
      "  data_women['Height'] = data_women['Height'].fillna(data_women['Height'].median())\n",
      "/var/folders/_y/cf4dygc14qx9g7l_tls72w940000gn/T/ipykernel_625/2133159366.py:7: SettingWithCopyWarning: \n",
      "A value is trying to be set on a copy of a slice from a DataFrame.\n",
      "Try using .loc[row_indexer,col_indexer] = value instead\n",
      "\n",
      "See the caveats in the documentation: https://pandas.pydata.org/pandas-docs/stable/user_guide/indexing.html#returning-a-view-versus-a-copy\n",
      "  data_men['Weight'] = data_men['Weight'].fillna(data_men['Weight'].median())\n",
      "/var/folders/_y/cf4dygc14qx9g7l_tls72w940000gn/T/ipykernel_625/2133159366.py:8: SettingWithCopyWarning: \n",
      "A value is trying to be set on a copy of a slice from a DataFrame.\n",
      "Try using .loc[row_indexer,col_indexer] = value instead\n",
      "\n",
      "See the caveats in the documentation: https://pandas.pydata.org/pandas-docs/stable/user_guide/indexing.html#returning-a-view-versus-a-copy\n",
      "  data_women['Weight'] = data_women['Weight'].fillna(data_women['Weight'].median())\n"
     ]
    }
   ],
   "source": [
    "data_men['Age'] = data_men['Age'].fillna(data_men['Age'].median())\n",
    "data_women['Age'] = data_women['Age'].fillna(data_women['Age'].median())\n",
    "\n",
    "data_men['Height'] = data_men['Height'].fillna(data_men['Height'].median())\n",
    "data_women['Height'] = data_women['Height'].fillna(data_women['Height'].median())\n",
    "\n",
    "data_men['Weight'] = data_men['Weight'].fillna(data_men['Weight'].median())\n",
    "data_women['Weight'] = data_women['Weight'].fillna(data_women['Weight'].median())"
   ]
  },
  {
   "cell_type": "code",
   "execution_count": 272,
   "id": "be49a969",
   "metadata": {},
   "outputs": [],
   "source": [
    "data[(data['Sex'] == 0) | (data['Sex'] == 2)] = data_men\n",
    "data[data['Sex'] == 1] = data_women"
   ]
  },
  {
   "cell_type": "markdown",
   "id": "18cd0d63",
   "metadata": {},
   "source": [
    "There are **no NA values** in our data frame!"
   ]
  },
  {
   "cell_type": "markdown",
   "id": "6ad5a667",
   "metadata": {},
   "source": [
    "### Memory optimization"
   ]
  },
  {
   "cell_type": "markdown",
   "id": "a353320d",
   "metadata": {},
   "source": [
    "Then we can convert type int64 to int8 for variables **Sex, Season, Year**"
   ]
  },
  {
   "cell_type": "code",
   "execution_count": 273,
   "id": "51dfdb68",
   "metadata": {},
   "outputs": [],
   "source": [
    "data[\"Year\"] = data[\"Year\"].astype(np.int16)\n",
    "data[\"Sex\"] = data[\"Sex\"].astype(np.int8)\n",
    "data[\"Season\"] = data[\"Season\"].astype(np.int8)\n",
    "data[\"Medal\"] = data[\"Medal\"].astype(np.int8)"
   ]
  },
  {
   "cell_type": "markdown",
   "id": "59536ad4",
   "metadata": {},
   "source": [
    "# Tasks"
   ]
  },
  {
   "cell_type": "markdown",
   "id": "bee30712",
   "metadata": {},
   "source": [
    "### 3. Age of the youngest athletes at the 1992 Olympics:"
   ]
  },
  {
   "cell_type": "code",
   "execution_count": 274,
   "id": "0ef08c20",
   "metadata": {},
   "outputs": [],
   "source": [
    "data1992 = data[data['Year'] == 1992]"
   ]
  },
  {
   "cell_type": "code",
   "execution_count": 275,
   "id": "23691f5d",
   "metadata": {},
   "outputs": [],
   "source": [
    "data1992_male = data1992[data1992['Sex'] == 0]\n",
    "data1992_female = data1992[data1992['Sex'] == 1]"
   ]
  },
  {
   "cell_type": "code",
   "execution_count": 276,
   "id": "44da7b04",
   "metadata": {},
   "outputs": [
    {
     "data": {
      "text/plain": [
       "11.0"
      ]
     },
     "execution_count": 276,
     "metadata": {},
     "output_type": "execute_result"
    }
   ],
   "source": [
    "data1992_male['Age'].min()"
   ]
  },
  {
   "cell_type": "code",
   "execution_count": 277,
   "id": "e81ef80d",
   "metadata": {},
   "outputs": [
    {
     "data": {
      "text/plain": [
       "12.0"
      ]
     },
     "execution_count": 277,
     "metadata": {},
     "output_type": "execute_result"
    }
   ],
   "source": [
    "data1992_female['Age'].min()"
   ]
  },
  {
   "cell_type": "markdown",
   "id": "d516a74c",
   "metadata": {},
   "source": [
    "Minimum age for women at the 1992 Olympics is **12 years old**, for men - **11 years old**."
   ]
  },
  {
   "cell_type": "markdown",
   "id": "a01c613a",
   "metadata": {},
   "source": [
    "### 4. Mean and standard deviation of the Height variable for athletes of each gender:"
   ]
  },
  {
   "cell_type": "code",
   "execution_count": 278,
   "id": "81098702",
   "metadata": {},
   "outputs": [
    {
     "data": {
      "text/plain": [
       "178.9"
      ]
     },
     "execution_count": 278,
     "metadata": {},
     "output_type": "execute_result"
    }
   ],
   "source": [
    "data[data['Sex'] == 0]['Height'].mean().round(2)"
   ]
  },
  {
   "cell_type": "code",
   "execution_count": 279,
   "id": "a0d9bc4f",
   "metadata": {},
   "outputs": [
    {
     "data": {
      "text/plain": [
       "167.86"
      ]
     },
     "execution_count": 279,
     "metadata": {},
     "output_type": "execute_result"
    }
   ],
   "source": [
    "data[data['Sex'] == 1]['Height'].mean().round(2)"
   ]
  },
  {
   "cell_type": "code",
   "execution_count": 280,
   "id": "418e359b",
   "metadata": {},
   "outputs": [
    {
     "data": {
      "text/plain": [
       "8.0"
      ]
     },
     "execution_count": 280,
     "metadata": {},
     "output_type": "execute_result"
    }
   ],
   "source": [
    "data[data['Sex'] == 0]['Height'].std().round(2)"
   ]
  },
  {
   "cell_type": "code",
   "execution_count": 281,
   "id": "92cede89",
   "metadata": {},
   "outputs": [
    {
     "data": {
      "text/plain": [
       "8.37"
      ]
     },
     "execution_count": 281,
     "metadata": {},
     "output_type": "execute_result"
    }
   ],
   "source": [
    "data[data['Sex'] == 1]['Height'].std().round(2)"
   ]
  },
  {
   "cell_type": "markdown",
   "id": "a745362f",
   "metadata": {},
   "source": [
    "**Mean value** of height for men = 178.9, for women = 167.9;\\\n",
    "**Standard deviation value** of height for men = 8.0, for women = 8.37"
   ]
  },
  {
   "cell_type": "markdown",
   "id": "0f0451ca",
   "metadata": {},
   "source": [
    "### 5. Mean and standard deviation of the height variable for female tennis players at the 2000 Olympics:"
   ]
  },
  {
   "cell_type": "code",
   "execution_count": 282,
   "id": "dcfca569",
   "metadata": {},
   "outputs": [
    {
     "data": {
      "text/plain": [
       "171.8"
      ]
     },
     "execution_count": 282,
     "metadata": {},
     "output_type": "execute_result"
    }
   ],
   "source": [
    "data_withoutna_HW[(data_withoutna_HW['Sex'] == 1) & \n",
    "                  (data_withoutna_HW['Sport'] == 'Tennis') & \n",
    "                 (data_withoutna_HW['Year'] == 2000)]['Height'].mean().round(1)"
   ]
  },
  {
   "cell_type": "code",
   "execution_count": 283,
   "id": "32414187",
   "metadata": {},
   "outputs": [
    {
     "data": {
      "text/plain": [
       "6.4"
      ]
     },
     "execution_count": 283,
     "metadata": {},
     "output_type": "execute_result"
    }
   ],
   "source": [
    "data_withoutna_HW[(data_withoutna_HW['Sex'] == 1) & \n",
    "                  (data_withoutna_HW['Sport'] == 'Tennis') & \n",
    "                 (data_withoutna_HW['Year'] == 2000)]['Height'].std().round(1)"
   ]
  },
  {
   "cell_type": "markdown",
   "id": "826368c1",
   "metadata": {},
   "source": [
    "**Mean value** of the height variable for female tennis players at the 2000 Olympics = 171.8\\\n",
    "**Standard deviation value** = 6.4"
   ]
  },
  {
   "cell_type": "markdown",
   "id": "dcbf11fa",
   "metadata": {},
   "source": [
    "### 6. The sport with the heaviest weightlifter at the 2006 Olympics:"
   ]
  },
  {
   "cell_type": "code",
   "execution_count": 284,
   "id": "1d6c71d1",
   "metadata": {},
   "outputs": [],
   "source": [
    "biggest_weight = data_withoutna_HW[data_withoutna_HW['Year'] == 2006]['Weight'].max()"
   ]
  },
  {
   "cell_type": "code",
   "execution_count": 285,
   "id": "9262675f",
   "metadata": {},
   "outputs": [
    {
     "data": {
      "text/plain": [
       "8102    Skeleton\n",
       "Name: Sport, dtype: object"
      ]
     },
     "execution_count": 285,
     "metadata": {},
     "output_type": "execute_result"
    }
   ],
   "source": [
    "data_withoutna_HW[(data_withoutna_HW['Year'] == 2006) &\n",
    "                  (data_withoutna_HW['Weight'] == biggest_weight)]['Sport']"
   ]
  },
  {
   "cell_type": "markdown",
   "id": "e3e3291f",
   "metadata": {},
   "source": [
    "The heaviest athlete at the 2006 Olympics participated in the **skeleton**"
   ]
  },
  {
   "cell_type": "markdown",
   "id": "bc41bbdb",
   "metadata": {},
   "source": [
    "### 7. Number of gold medals that was won by women from 1980 to 2010:"
   ]
  },
  {
   "cell_type": "code",
   "execution_count": 286,
   "id": "d8bb77a3",
   "metadata": {},
   "outputs": [
    {
     "data": {
      "text/html": [
       "<div>\n",
       "<style scoped>\n",
       "    .dataframe tbody tr th:only-of-type {\n",
       "        vertical-align: middle;\n",
       "    }\n",
       "\n",
       "    .dataframe tbody tr th {\n",
       "        vertical-align: top;\n",
       "    }\n",
       "\n",
       "    .dataframe thead th {\n",
       "        text-align: right;\n",
       "    }\n",
       "</style>\n",
       "<table border=\"1\" class=\"dataframe\">\n",
       "  <thead>\n",
       "    <tr style=\"text-align: right;\">\n",
       "      <th></th>\n",
       "      <th>ID</th>\n",
       "      <th>Name</th>\n",
       "      <th>Sex</th>\n",
       "      <th>Age</th>\n",
       "      <th>Height</th>\n",
       "      <th>Weight</th>\n",
       "      <th>Team</th>\n",
       "      <th>NOC</th>\n",
       "      <th>Games</th>\n",
       "      <th>Year</th>\n",
       "      <th>Season</th>\n",
       "      <th>City</th>\n",
       "      <th>Sport</th>\n",
       "      <th>Event</th>\n",
       "      <th>Medal</th>\n",
       "    </tr>\n",
       "  </thead>\n",
       "  <tbody>\n",
       "  </tbody>\n",
       "</table>\n",
       "</div>"
      ],
      "text/plain": [
       "Empty DataFrame\n",
       "Columns: [ID, Name, Sex, Age, Height, Weight, Team, NOC, Games, Year, Season, City, Sport, Event, Medal]\n",
       "Index: []"
      ]
     },
     "execution_count": 286,
     "metadata": {},
     "output_type": "execute_result"
    }
   ],
   "source": [
    "data[(data['Sex'] == 1) & (data['Year'] >= 1980) & (data['Year'] <= 2010) & (data['Medal'] == 'Gold')]"
   ]
  },
  {
   "cell_type": "markdown",
   "id": "9bcd207b",
   "metadata": {},
   "source": [
    "**No gold medals** that were received by women from 1980 to 2010"
   ]
  },
  {
   "cell_type": "markdown",
   "id": "6c25ae6b",
   "metadata": {},
   "source": [
    "### 8. How many times has John Aalberg competed in the Olympics in different years?"
   ]
  },
  {
   "cell_type": "code",
   "execution_count": 287,
   "id": "517cfbf3",
   "metadata": {},
   "outputs": [
    {
     "data": {
      "text/plain": [
       "8"
      ]
     },
     "execution_count": 287,
     "metadata": {},
     "output_type": "execute_result"
    }
   ],
   "source": [
    "len(data[data['Name'] == 'John Aalberg'])"
   ]
  },
  {
   "cell_type": "markdown",
   "id": "10259683",
   "metadata": {},
   "source": [
    "**8 times** John Aalberg participated in the Olympic Games in different years"
   ]
  },
  {
   "cell_type": "markdown",
   "id": "f8d78842",
   "metadata": {},
   "source": [
    "### 9. The least and most represented age groups of athletes at the 2008 Olympics:"
   ]
  },
  {
   "cell_type": "code",
   "execution_count": 288,
   "id": "9a9626a1",
   "metadata": {},
   "outputs": [],
   "source": [
    "data_2008 = data[data['Year'] == 2008]"
   ]
  },
  {
   "cell_type": "code",
   "execution_count": 289,
   "id": "a4013dc1",
   "metadata": {},
   "outputs": [
    {
     "data": {
      "text/plain": [
       "6296"
      ]
     },
     "execution_count": 289,
     "metadata": {},
     "output_type": "execute_result"
    }
   ],
   "source": [
    "len(data_2008[(data_2008['Age'] >= 15) & (data_2008['Age'] < 25)])"
   ]
  },
  {
   "cell_type": "code",
   "execution_count": 290,
   "id": "3cd1372f",
   "metadata": {},
   "outputs": [
    {
     "data": {
      "text/plain": [
       "6367"
      ]
     },
     "execution_count": 290,
     "metadata": {},
     "output_type": "execute_result"
    }
   ],
   "source": [
    "len(data_2008[(data_2008['Age'] >= 25) & (data_2008['Age'] < 35)])"
   ]
  },
  {
   "cell_type": "code",
   "execution_count": 291,
   "id": "7a246692",
   "metadata": {},
   "outputs": [
    {
     "data": {
      "text/plain": [
       "790"
      ]
     },
     "execution_count": 291,
     "metadata": {},
     "output_type": "execute_result"
    }
   ],
   "source": [
    "len(data_2008[(data_2008['Age'] >= 35) & (data_2008['Age'] < 45)])"
   ]
  },
  {
   "cell_type": "code",
   "execution_count": 292,
   "id": "77eddd2c",
   "metadata": {},
   "outputs": [
    {
     "data": {
      "text/plain": [
       "116"
      ]
     },
     "execution_count": 292,
     "metadata": {},
     "output_type": "execute_result"
    }
   ],
   "source": [
    "len(data_2008[(data_2008['Age'] >= 45) & (data_2008['Age'] < 55)])"
   ]
  },
  {
   "cell_type": "markdown",
   "id": "06d6d8a0",
   "metadata": {},
   "source": [
    "**Age group (25 - 35**) are more represented at the 2008 Olympics than others \\\n",
    "**Age group (45 - 55**) are less represented at the 2008 Olympics than others"
   ]
  },
  {
   "cell_type": "markdown",
   "id": "52046f30",
   "metadata": {},
   "source": [
    "### 10. Change in the number of sports in the 2002 Olympics compared to the 1994 Olympics:"
   ]
  },
  {
   "cell_type": "code",
   "execution_count": 293,
   "id": "8febfd76",
   "metadata": {},
   "outputs": [
    {
     "data": {
      "text/plain": [
       "12"
      ]
     },
     "execution_count": 293,
     "metadata": {},
     "output_type": "execute_result"
    }
   ],
   "source": [
    "data[data['Year'] == 1994]['Sport'].nunique()"
   ]
  },
  {
   "cell_type": "code",
   "execution_count": 294,
   "id": "b10cb543",
   "metadata": {},
   "outputs": [
    {
     "data": {
      "text/plain": [
       "15"
      ]
     },
     "execution_count": 294,
     "metadata": {},
     "output_type": "execute_result"
    }
   ],
   "source": [
    "data[data['Year'] == 2002]['Sport'].nunique()"
   ]
  },
  {
   "cell_type": "markdown",
   "id": "102e8876",
   "metadata": {},
   "source": [
    "In 2002 there were **3 more sports** at the Olympic Games than in 1994"
   ]
  },
  {
   "cell_type": "markdown",
   "id": "1a4d0b74",
   "metadata": {},
   "source": [
    "### 11. Top 3 countries for each type of medals for the winter and summer olympiads separately:"
   ]
  },
  {
   "cell_type": "code",
   "execution_count": 295,
   "id": "d94029a2",
   "metadata": {},
   "outputs": [],
   "source": [
    "data_summer = data[data['Season'] == 0]"
   ]
  },
  {
   "cell_type": "code",
   "execution_count": 296,
   "id": "f8576585",
   "metadata": {},
   "outputs": [],
   "source": [
    "data_winter = data[data['Season'] == 1]"
   ]
  },
  {
   "cell_type": "code",
   "execution_count": 297,
   "id": "27524a0a",
   "metadata": {},
   "outputs": [
    {
     "data": {
      "text/plain": [
       "United States    2333\n",
       "Soviet Union      830\n",
       "Germany           564\n",
       "Name: Team, dtype: int64"
      ]
     },
     "execution_count": 297,
     "metadata": {},
     "output_type": "execute_result"
    }
   ],
   "source": [
    "data_summer[data_summer['Medal'] == 0]['Team'].value_counts().head(3)"
   ]
  },
  {
   "cell_type": "code",
   "execution_count": 298,
   "id": "dffa95bb",
   "metadata": {},
   "outputs": [
    {
     "data": {
      "text/plain": [
       "United States    1241\n",
       "Soviet Union      635\n",
       "Great Britain     576\n",
       "Name: Team, dtype: int64"
      ]
     },
     "execution_count": 298,
     "metadata": {},
     "output_type": "execute_result"
    }
   ],
   "source": [
    "data_summer[data_summer['Medal'] == 1]['Team'].value_counts().head(3)"
   ]
  },
  {
   "cell_type": "code",
   "execution_count": 299,
   "id": "eac4752a",
   "metadata": {},
   "outputs": [
    {
     "data": {
      "text/plain": [
       "United States    1112\n",
       "Germany           610\n",
       "Soviet Union      596\n",
       "Name: Team, dtype: int64"
      ]
     },
     "execution_count": 299,
     "metadata": {},
     "output_type": "execute_result"
    }
   ],
   "source": [
    "data_summer[data_summer['Medal'] == 2]['Team'].value_counts().head(3)"
   ]
  },
  {
   "cell_type": "markdown",
   "id": "69ee601d",
   "metadata": {},
   "source": [
    "There are gold medals: **2333 in US**, **830 in Soviet Union**, **564 in Germany** during summer Olympics.\\\n",
    "There are silver medals: **1241 in US**, **635 in Soviet Union**, **576 in Great Britain** during summer Olympics.\\\n",
    "There are bronze medals: **1112 in US**, **610 in Germany**, **596 in Soviet Union** during summer Olympics"
   ]
  },
  {
   "cell_type": "code",
   "execution_count": 300,
   "id": "75a8a1b0",
   "metadata": {},
   "outputs": [
    {
     "data": {
      "text/plain": [
       "Canada          289\n",
       "Soviet Union    228\n",
       "Norway          151\n",
       "Name: Team, dtype: int64"
      ]
     },
     "execution_count": 300,
     "metadata": {},
     "output_type": "execute_result"
    }
   ],
   "source": [
    "data_winter[data_winter['Medal'] == 0]['Team'].value_counts().head(3)"
   ]
  },
  {
   "cell_type": "code",
   "execution_count": 301,
   "id": "d794876a",
   "metadata": {},
   "outputs": [
    {
     "data": {
      "text/plain": [
       "United States    271\n",
       "Canada           189\n",
       "Norway           165\n",
       "Name: Team, dtype: int64"
      ]
     },
     "execution_count": 301,
     "metadata": {},
     "output_type": "execute_result"
    }
   ],
   "source": [
    "data_winter[data_winter['Medal'] == 1]['Team'].value_counts().head(3)"
   ]
  },
  {
   "cell_type": "code",
   "execution_count": 302,
   "id": "839e2bfa",
   "metadata": {},
   "outputs": [
    {
     "data": {
      "text/plain": [
       "Finland    215\n",
       "Sweden     177\n",
       "Norway     127\n",
       "Name: Team, dtype: int64"
      ]
     },
     "execution_count": 302,
     "metadata": {},
     "output_type": "execute_result"
    }
   ],
   "source": [
    "data_winter[data_winter['Medal'] == 2]['Team'].value_counts().head(3)"
   ]
  },
  {
   "cell_type": "markdown",
   "id": "dba7035a",
   "metadata": {},
   "source": [
    "There are gold medals: **289 in Canada**, **228 in Soviet Union**, **151 in Norway** during winter Olympics.\\\n",
    "There are silver medals: **271 in US**, **189 in Canada**, **165 in Norway** during winter Olympics.\\\n",
    "There are bronze medals: **215 in Finland**, **177 in Sweden**, **127 in Norway** during winter Olympics"
   ]
  },
  {
   "cell_type": "markdown",
   "id": "b5bebc1b",
   "metadata": {},
   "source": [
    "### 12. Create a new Height_z_scores variable with standardized Height values:"
   ]
  },
  {
   "cell_type": "code",
   "execution_count": 303,
   "id": "5e82955b",
   "metadata": {},
   "outputs": [],
   "source": [
    "standard = preprocessing.scale(data['Height'])"
   ]
  },
  {
   "cell_type": "code",
   "execution_count": 304,
   "id": "f6953e9b",
   "metadata": {},
   "outputs": [
    {
     "data": {
      "text/plain": [
       "271107"
      ]
     },
     "execution_count": 304,
     "metadata": {},
     "output_type": "execute_result"
    }
   ],
   "source": [
    "len(standard)"
   ]
  },
  {
   "cell_type": "code",
   "execution_count": 305,
   "id": "b07fac3d",
   "metadata": {},
   "outputs": [],
   "source": [
    "data['Height_z_scores'] = standard"
   ]
  },
  {
   "cell_type": "code",
   "execution_count": 306,
   "id": "a23482a7",
   "metadata": {},
   "outputs": [
    {
     "data": {
      "text/html": [
       "<div>\n",
       "<style scoped>\n",
       "    .dataframe tbody tr th:only-of-type {\n",
       "        vertical-align: middle;\n",
       "    }\n",
       "\n",
       "    .dataframe tbody tr th {\n",
       "        vertical-align: top;\n",
       "    }\n",
       "\n",
       "    .dataframe thead th {\n",
       "        text-align: right;\n",
       "    }\n",
       "</style>\n",
       "<table border=\"1\" class=\"dataframe\">\n",
       "  <thead>\n",
       "    <tr style=\"text-align: right;\">\n",
       "      <th></th>\n",
       "      <th>ID</th>\n",
       "      <th>Name</th>\n",
       "      <th>Sex</th>\n",
       "      <th>Age</th>\n",
       "      <th>Height</th>\n",
       "      <th>Weight</th>\n",
       "      <th>Team</th>\n",
       "      <th>NOC</th>\n",
       "      <th>Games</th>\n",
       "      <th>Year</th>\n",
       "      <th>Season</th>\n",
       "      <th>City</th>\n",
       "      <th>Sport</th>\n",
       "      <th>Event</th>\n",
       "      <th>Medal</th>\n",
       "      <th>Height_z_scores</th>\n",
       "    </tr>\n",
       "  </thead>\n",
       "  <tbody>\n",
       "    <tr>\n",
       "      <th>0</th>\n",
       "      <td>91138</td>\n",
       "      <td>Anton Dmitriyevich Pantov</td>\n",
       "      <td>0</td>\n",
       "      <td>22.0</td>\n",
       "      <td>187.0</td>\n",
       "      <td>77.0</td>\n",
       "      <td>Kazakhstan</td>\n",
       "      <td>KAZ</td>\n",
       "      <td>2014 Winter</td>\n",
       "      <td>2014</td>\n",
       "      <td>1</td>\n",
       "      <td>Sochi</td>\n",
       "      <td>Biathlon</td>\n",
       "      <td>Biathlon Men's 10 kilometres Sprint</td>\n",
       "      <td>3</td>\n",
       "      <td>1.174332</td>\n",
       "    </tr>\n",
       "    <tr>\n",
       "      <th>1</th>\n",
       "      <td>91138</td>\n",
       "      <td>Anton Dmitriyevich Pantov</td>\n",
       "      <td>0</td>\n",
       "      <td>22.0</td>\n",
       "      <td>187.0</td>\n",
       "      <td>77.0</td>\n",
       "      <td>Kazakhstan</td>\n",
       "      <td>KAZ</td>\n",
       "      <td>2014 Winter</td>\n",
       "      <td>2014</td>\n",
       "      <td>1</td>\n",
       "      <td>Sochi</td>\n",
       "      <td>Biathlon</td>\n",
       "      <td>Biathlon Mixed 2 x 6 kilometres and 2 x 7.5 ki...</td>\n",
       "      <td>3</td>\n",
       "      <td>1.174332</td>\n",
       "    </tr>\n",
       "    <tr>\n",
       "      <th>2</th>\n",
       "      <td>91138</td>\n",
       "      <td>Anton Dmitriyevich Pantov</td>\n",
       "      <td>0</td>\n",
       "      <td>22.0</td>\n",
       "      <td>187.0</td>\n",
       "      <td>77.0</td>\n",
       "      <td>Kazakhstan</td>\n",
       "      <td>KAZ</td>\n",
       "      <td>2014 Winter</td>\n",
       "      <td>2014</td>\n",
       "      <td>1</td>\n",
       "      <td>Sochi</td>\n",
       "      <td>Biathlon</td>\n",
       "      <td>Biathlon Men's 20 kilometres</td>\n",
       "      <td>3</td>\n",
       "      <td>1.174332</td>\n",
       "    </tr>\n",
       "    <tr>\n",
       "      <th>3</th>\n",
       "      <td>91138</td>\n",
       "      <td>Anton Dmitriyevich Pantov</td>\n",
       "      <td>0</td>\n",
       "      <td>22.0</td>\n",
       "      <td>187.0</td>\n",
       "      <td>77.0</td>\n",
       "      <td>Kazakhstan</td>\n",
       "      <td>KAZ</td>\n",
       "      <td>2014 Winter</td>\n",
       "      <td>2014</td>\n",
       "      <td>1</td>\n",
       "      <td>Sochi</td>\n",
       "      <td>Biathlon</td>\n",
       "      <td>Biathlon Men's 4 x 7.5 kilometres Relay</td>\n",
       "      <td>3</td>\n",
       "      <td>1.174332</td>\n",
       "    </tr>\n",
       "    <tr>\n",
       "      <th>4</th>\n",
       "      <td>91139</td>\n",
       "      <td>Dmitry Anatolyevich Pantov</td>\n",
       "      <td>0</td>\n",
       "      <td>24.0</td>\n",
       "      <td>190.0</td>\n",
       "      <td>85.0</td>\n",
       "      <td>Kazakhstan</td>\n",
       "      <td>KAZ</td>\n",
       "      <td>1994 Winter</td>\n",
       "      <td>1994</td>\n",
       "      <td>1</td>\n",
       "      <td>Lillehammer</td>\n",
       "      <td>Biathlon</td>\n",
       "      <td>Biathlon Men's 10 kilometres Sprint</td>\n",
       "      <td>3</td>\n",
       "      <td>1.490645</td>\n",
       "    </tr>\n",
       "  </tbody>\n",
       "</table>\n",
       "</div>"
      ],
      "text/plain": [
       "      ID                        Name  Sex   Age  Height  Weight        Team  \\\n",
       "0  91138   Anton Dmitriyevich Pantov    0  22.0   187.0    77.0  Kazakhstan   \n",
       "1  91138   Anton Dmitriyevich Pantov    0  22.0   187.0    77.0  Kazakhstan   \n",
       "2  91138   Anton Dmitriyevich Pantov    0  22.0   187.0    77.0  Kazakhstan   \n",
       "3  91138   Anton Dmitriyevich Pantov    0  22.0   187.0    77.0  Kazakhstan   \n",
       "4  91139  Dmitry Anatolyevich Pantov    0  24.0   190.0    85.0  Kazakhstan   \n",
       "\n",
       "   NOC        Games  Year  Season         City     Sport  \\\n",
       "0  KAZ  2014 Winter  2014       1        Sochi  Biathlon   \n",
       "1  KAZ  2014 Winter  2014       1        Sochi  Biathlon   \n",
       "2  KAZ  2014 Winter  2014       1        Sochi  Biathlon   \n",
       "3  KAZ  2014 Winter  2014       1        Sochi  Biathlon   \n",
       "4  KAZ  1994 Winter  1994       1  Lillehammer  Biathlon   \n",
       "\n",
       "                                               Event  Medal  Height_z_scores  \n",
       "0                Biathlon Men's 10 kilometres Sprint      3         1.174332  \n",
       "1  Biathlon Mixed 2 x 6 kilometres and 2 x 7.5 ki...      3         1.174332  \n",
       "2                       Biathlon Men's 20 kilometres      3         1.174332  \n",
       "3            Biathlon Men's 4 x 7.5 kilometres Relay      3         1.174332  \n",
       "4                Biathlon Men's 10 kilometres Sprint      3         1.490645  "
      ]
     },
     "execution_count": 306,
     "metadata": {},
     "output_type": "execute_result"
    }
   ],
   "source": [
    "data.head()"
   ]
  },
  {
   "cell_type": "markdown",
   "id": "0b109a54",
   "metadata": {},
   "source": [
    "### 13. Min-max normalization for variable Height"
   ]
  },
  {
   "cell_type": "code",
   "execution_count": 307,
   "id": "f3832c56",
   "metadata": {},
   "outputs": [],
   "source": [
    "scaler = MinMaxScaler()"
   ]
  },
  {
   "cell_type": "code",
   "execution_count": 308,
   "id": "21256e0b",
   "metadata": {},
   "outputs": [],
   "source": [
    "Height_array = np.array(data['Height'])\n",
    "Height_array = Height_array.reshape(-1, 1)"
   ]
  },
  {
   "cell_type": "code",
   "execution_count": 309,
   "id": "60d1c758",
   "metadata": {},
   "outputs": [
    {
     "name": "stdout",
     "output_type": "stream",
     "text": [
      "MinMaxScaler()\n"
     ]
    }
   ],
   "source": [
    "print(scaler.fit(Height_array))"
   ]
  },
  {
   "cell_type": "code",
   "execution_count": 310,
   "id": "95db56e9",
   "metadata": {},
   "outputs": [
    {
     "name": "stdout",
     "output_type": "stream",
     "text": [
      "[[0.28169014]\n",
      " [0.28169014]\n",
      " [0.28169014]\n",
      " ...\n",
      " [0.23004695]\n",
      " [0.27230047]\n",
      " [0.27230047]]\n"
     ]
    }
   ],
   "source": [
    "print(scaler.transform(Height_array))"
   ]
  },
  {
   "cell_type": "code",
   "execution_count": 311,
   "id": "50f9008f",
   "metadata": {},
   "outputs": [],
   "source": [
    "data['Height_min_max_scaled'] = scaler.transform(Height_array)"
   ]
  },
  {
   "cell_type": "code",
   "execution_count": 312,
   "id": "1eeb1400",
   "metadata": {},
   "outputs": [
    {
     "data": {
      "text/html": [
       "<div>\n",
       "<style scoped>\n",
       "    .dataframe tbody tr th:only-of-type {\n",
       "        vertical-align: middle;\n",
       "    }\n",
       "\n",
       "    .dataframe tbody tr th {\n",
       "        vertical-align: top;\n",
       "    }\n",
       "\n",
       "    .dataframe thead th {\n",
       "        text-align: right;\n",
       "    }\n",
       "</style>\n",
       "<table border=\"1\" class=\"dataframe\">\n",
       "  <thead>\n",
       "    <tr style=\"text-align: right;\">\n",
       "      <th></th>\n",
       "      <th>ID</th>\n",
       "      <th>Name</th>\n",
       "      <th>Sex</th>\n",
       "      <th>Age</th>\n",
       "      <th>Height</th>\n",
       "      <th>Weight</th>\n",
       "      <th>Team</th>\n",
       "      <th>NOC</th>\n",
       "      <th>Games</th>\n",
       "      <th>Year</th>\n",
       "      <th>Season</th>\n",
       "      <th>City</th>\n",
       "      <th>Sport</th>\n",
       "      <th>Event</th>\n",
       "      <th>Medal</th>\n",
       "      <th>Height_z_scores</th>\n",
       "      <th>Height_min_max_scaled</th>\n",
       "    </tr>\n",
       "  </thead>\n",
       "  <tbody>\n",
       "    <tr>\n",
       "      <th>0</th>\n",
       "      <td>91138</td>\n",
       "      <td>Anton Dmitriyevich Pantov</td>\n",
       "      <td>0</td>\n",
       "      <td>22.0</td>\n",
       "      <td>187.0</td>\n",
       "      <td>77.0</td>\n",
       "      <td>Kazakhstan</td>\n",
       "      <td>KAZ</td>\n",
       "      <td>2014 Winter</td>\n",
       "      <td>2014</td>\n",
       "      <td>1</td>\n",
       "      <td>Sochi</td>\n",
       "      <td>Biathlon</td>\n",
       "      <td>Biathlon Men's 10 kilometres Sprint</td>\n",
       "      <td>3</td>\n",
       "      <td>1.174332</td>\n",
       "      <td>0.281690</td>\n",
       "    </tr>\n",
       "    <tr>\n",
       "      <th>1</th>\n",
       "      <td>91138</td>\n",
       "      <td>Anton Dmitriyevich Pantov</td>\n",
       "      <td>0</td>\n",
       "      <td>22.0</td>\n",
       "      <td>187.0</td>\n",
       "      <td>77.0</td>\n",
       "      <td>Kazakhstan</td>\n",
       "      <td>KAZ</td>\n",
       "      <td>2014 Winter</td>\n",
       "      <td>2014</td>\n",
       "      <td>1</td>\n",
       "      <td>Sochi</td>\n",
       "      <td>Biathlon</td>\n",
       "      <td>Biathlon Mixed 2 x 6 kilometres and 2 x 7.5 ki...</td>\n",
       "      <td>3</td>\n",
       "      <td>1.174332</td>\n",
       "      <td>0.281690</td>\n",
       "    </tr>\n",
       "    <tr>\n",
       "      <th>2</th>\n",
       "      <td>91138</td>\n",
       "      <td>Anton Dmitriyevich Pantov</td>\n",
       "      <td>0</td>\n",
       "      <td>22.0</td>\n",
       "      <td>187.0</td>\n",
       "      <td>77.0</td>\n",
       "      <td>Kazakhstan</td>\n",
       "      <td>KAZ</td>\n",
       "      <td>2014 Winter</td>\n",
       "      <td>2014</td>\n",
       "      <td>1</td>\n",
       "      <td>Sochi</td>\n",
       "      <td>Biathlon</td>\n",
       "      <td>Biathlon Men's 20 kilometres</td>\n",
       "      <td>3</td>\n",
       "      <td>1.174332</td>\n",
       "      <td>0.281690</td>\n",
       "    </tr>\n",
       "    <tr>\n",
       "      <th>3</th>\n",
       "      <td>91138</td>\n",
       "      <td>Anton Dmitriyevich Pantov</td>\n",
       "      <td>0</td>\n",
       "      <td>22.0</td>\n",
       "      <td>187.0</td>\n",
       "      <td>77.0</td>\n",
       "      <td>Kazakhstan</td>\n",
       "      <td>KAZ</td>\n",
       "      <td>2014 Winter</td>\n",
       "      <td>2014</td>\n",
       "      <td>1</td>\n",
       "      <td>Sochi</td>\n",
       "      <td>Biathlon</td>\n",
       "      <td>Biathlon Men's 4 x 7.5 kilometres Relay</td>\n",
       "      <td>3</td>\n",
       "      <td>1.174332</td>\n",
       "      <td>0.281690</td>\n",
       "    </tr>\n",
       "    <tr>\n",
       "      <th>4</th>\n",
       "      <td>91139</td>\n",
       "      <td>Dmitry Anatolyevich Pantov</td>\n",
       "      <td>0</td>\n",
       "      <td>24.0</td>\n",
       "      <td>190.0</td>\n",
       "      <td>85.0</td>\n",
       "      <td>Kazakhstan</td>\n",
       "      <td>KAZ</td>\n",
       "      <td>1994 Winter</td>\n",
       "      <td>1994</td>\n",
       "      <td>1</td>\n",
       "      <td>Lillehammer</td>\n",
       "      <td>Biathlon</td>\n",
       "      <td>Biathlon Men's 10 kilometres Sprint</td>\n",
       "      <td>3</td>\n",
       "      <td>1.490645</td>\n",
       "      <td>0.295775</td>\n",
       "    </tr>\n",
       "  </tbody>\n",
       "</table>\n",
       "</div>"
      ],
      "text/plain": [
       "      ID                        Name  Sex   Age  Height  Weight        Team  \\\n",
       "0  91138   Anton Dmitriyevich Pantov    0  22.0   187.0    77.0  Kazakhstan   \n",
       "1  91138   Anton Dmitriyevich Pantov    0  22.0   187.0    77.0  Kazakhstan   \n",
       "2  91138   Anton Dmitriyevich Pantov    0  22.0   187.0    77.0  Kazakhstan   \n",
       "3  91138   Anton Dmitriyevich Pantov    0  22.0   187.0    77.0  Kazakhstan   \n",
       "4  91139  Dmitry Anatolyevich Pantov    0  24.0   190.0    85.0  Kazakhstan   \n",
       "\n",
       "   NOC        Games  Year  Season         City     Sport  \\\n",
       "0  KAZ  2014 Winter  2014       1        Sochi  Biathlon   \n",
       "1  KAZ  2014 Winter  2014       1        Sochi  Biathlon   \n",
       "2  KAZ  2014 Winter  2014       1        Sochi  Biathlon   \n",
       "3  KAZ  2014 Winter  2014       1        Sochi  Biathlon   \n",
       "4  KAZ  1994 Winter  1994       1  Lillehammer  Biathlon   \n",
       "\n",
       "                                               Event  Medal  Height_z_scores  \\\n",
       "0                Biathlon Men's 10 kilometres Sprint      3         1.174332   \n",
       "1  Biathlon Mixed 2 x 6 kilometres and 2 x 7.5 ki...      3         1.174332   \n",
       "2                       Biathlon Men's 20 kilometres      3         1.174332   \n",
       "3            Biathlon Men's 4 x 7.5 kilometres Relay      3         1.174332   \n",
       "4                Biathlon Men's 10 kilometres Sprint      3         1.490645   \n",
       "\n",
       "   Height_min_max_scaled  \n",
       "0               0.281690  \n",
       "1               0.281690  \n",
       "2               0.281690  \n",
       "3               0.281690  \n",
       "4               0.295775  "
      ]
     },
     "execution_count": 312,
     "metadata": {},
     "output_type": "execute_result"
    }
   ],
   "source": [
    "data.head()"
   ]
  },
  {
   "cell_type": "markdown",
   "id": "8b8c9dad",
   "metadata": {},
   "source": [
    "We add a new column with **normalized data of Heights** (Height_min_max_scaled)"
   ]
  },
  {
   "cell_type": "markdown",
   "id": "d2fc0adb",
   "metadata": {},
   "source": [
    "### 14. Compare age, height and weight of men and women in winter Olympic games"
   ]
  },
  {
   "cell_type": "code",
   "execution_count": 313,
   "id": "b471e942",
   "metadata": {},
   "outputs": [],
   "source": [
    "data_winter_m = data_winter[data_winter['Sex'] == 0]\n",
    "data_winter_f = data_winter[data_winter['Sex'] == 1]"
   ]
  },
  {
   "cell_type": "code",
   "execution_count": 314,
   "id": "af133192",
   "metadata": {},
   "outputs": [
    {
     "data": {
      "text/plain": [
       "178.73590371520726"
      ]
     },
     "execution_count": 314,
     "metadata": {},
     "output_type": "execute_result"
    }
   ],
   "source": [
    "data_winter_m['Height'].mean()"
   ]
  },
  {
   "cell_type": "code",
   "execution_count": 315,
   "id": "f52658c8",
   "metadata": {},
   "outputs": [
    {
     "data": {
      "text/plain": [
       "179.0"
      ]
     },
     "execution_count": 315,
     "metadata": {},
     "output_type": "execute_result"
    }
   ],
   "source": [
    "data_winter_m['Height'].median()"
   ]
  },
  {
   "cell_type": "code",
   "execution_count": 316,
   "id": "8cda6b5d",
   "metadata": {},
   "outputs": [
    {
     "data": {
      "text/plain": [
       "75.84528431489667"
      ]
     },
     "execution_count": 316,
     "metadata": {},
     "output_type": "execute_result"
    }
   ],
   "source": [
    "data_winter_m['Weight'].mean()"
   ]
  },
  {
   "cell_type": "code",
   "execution_count": 317,
   "id": "ff6a0460",
   "metadata": {},
   "outputs": [],
   "source": [
    "data_men_H = [data_winter_m['Height'].mean(), \n",
    "            data_winter_m['Height'].median(), \n",
    "            data_winter_m['Height'].min(),\n",
    "            data_winter_m['Height'].max()]\n",
    "data_women_H = [data_winter_f['Height'].mean(), \n",
    "            data_winter_f['Height'].median(), \n",
    "            data_winter_f['Height'].min(),\n",
    "            data_winter_f['Height'].max()]"
   ]
  },
  {
   "cell_type": "code",
   "execution_count": 318,
   "id": "e97d80c1",
   "metadata": {},
   "outputs": [],
   "source": [
    "data_men_W = [data_winter_m['Weight'].mean(), \n",
    "            data_winter_m['Weight'].median(), \n",
    "            data_winter_m['Weight'].min(),\n",
    "            data_winter_m['Weight'].max()]\n",
    "data_women_W = [data_winter_f['Weight'].mean(), \n",
    "            data_winter_f['Weight'].median(), \n",
    "            data_winter_f['Weight'].min(),\n",
    "            data_winter_f['Weight'].max()]"
   ]
  },
  {
   "cell_type": "code",
   "execution_count": 319,
   "id": "31799389",
   "metadata": {},
   "outputs": [],
   "source": [
    "data_men_A = [data_winter_m['Age'].mean(), \n",
    "            data_winter_m['Age'].median(), \n",
    "            data_winter_m['Age'].min(),\n",
    "            data_winter_m['Age'].max()]\n",
    "data_women_A = [data_winter_f['Age'].mean(), \n",
    "            data_winter_f['Age'].median(), \n",
    "            data_winter_f['Age'].min(),\n",
    "            data_winter_f['Age'].max()]"
   ]
  },
  {
   "cell_type": "code",
   "execution_count": 320,
   "id": "996bc9c0",
   "metadata": {},
   "outputs": [],
   "source": [
    "data_review = pd.DataFrame(np.array([data_men_H, data_women_H, data_men_W, data_women_W, data_men_A, data_women_A]).T,\n",
    "                          columns = ['Height men', 'Height women', 'Weight men', 'Weight women', 'Age men', 'Age women'],\n",
    "                          index = ['Mean', 'Median', 'Min', 'Max'])\n",
    "data_review = data_review.round(2)"
   ]
  },
  {
   "cell_type": "markdown",
   "id": "ea62ada5",
   "metadata": {},
   "source": [
    "Data frame with **comparison** of age, height and weight (mean, median, min and max values) of men and women in winter Olympic games"
   ]
  },
  {
   "cell_type": "code",
   "execution_count": 321,
   "id": "bc32f15a",
   "metadata": {},
   "outputs": [
    {
     "data": {
      "text/html": [
       "<div>\n",
       "<style scoped>\n",
       "    .dataframe tbody tr th:only-of-type {\n",
       "        vertical-align: middle;\n",
       "    }\n",
       "\n",
       "    .dataframe tbody tr th {\n",
       "        vertical-align: top;\n",
       "    }\n",
       "\n",
       "    .dataframe thead th {\n",
       "        text-align: right;\n",
       "    }\n",
       "</style>\n",
       "<table border=\"1\" class=\"dataframe\">\n",
       "  <thead>\n",
       "    <tr style=\"text-align: right;\">\n",
       "      <th></th>\n",
       "      <th>Height men</th>\n",
       "      <th>Height women</th>\n",
       "      <th>Weight men</th>\n",
       "      <th>Weight women</th>\n",
       "      <th>Age men</th>\n",
       "      <th>Age women</th>\n",
       "    </tr>\n",
       "  </thead>\n",
       "  <tbody>\n",
       "    <tr>\n",
       "      <th>Mean</th>\n",
       "      <td>178.74</td>\n",
       "      <td>166.68</td>\n",
       "      <td>75.85</td>\n",
       "      <td>59.67</td>\n",
       "      <td>25.5</td>\n",
       "      <td>24.01</td>\n",
       "    </tr>\n",
       "    <tr>\n",
       "      <th>Median</th>\n",
       "      <td>179.00</td>\n",
       "      <td>168.00</td>\n",
       "      <td>74.00</td>\n",
       "      <td>59.00</td>\n",
       "      <td>25.0</td>\n",
       "      <td>24.00</td>\n",
       "    </tr>\n",
       "    <tr>\n",
       "      <th>Min</th>\n",
       "      <td>142.00</td>\n",
       "      <td>137.00</td>\n",
       "      <td>47.00</td>\n",
       "      <td>32.00</td>\n",
       "      <td>12.0</td>\n",
       "      <td>11.00</td>\n",
       "    </tr>\n",
       "    <tr>\n",
       "      <th>Max</th>\n",
       "      <td>211.00</td>\n",
       "      <td>194.00</td>\n",
       "      <td>145.00</td>\n",
       "      <td>96.00</td>\n",
       "      <td>58.0</td>\n",
       "      <td>48.00</td>\n",
       "    </tr>\n",
       "  </tbody>\n",
       "</table>\n",
       "</div>"
      ],
      "text/plain": [
       "        Height men  Height women  Weight men  Weight women  Age men  Age women\n",
       "Mean        178.74        166.68       75.85         59.67     25.5      24.01\n",
       "Median      179.00        168.00       74.00         59.00     25.0      24.00\n",
       "Min         142.00        137.00       47.00         32.00     12.0      11.00\n",
       "Max         211.00        194.00      145.00         96.00     58.0      48.00"
      ]
     },
     "execution_count": 321,
     "metadata": {},
     "output_type": "execute_result"
    }
   ],
   "source": [
    "data_review"
   ]
  },
  {
   "cell_type": "markdown",
   "id": "2760b3da",
   "metadata": {},
   "source": [
    "### 15. Explore variables Team and Medal"
   ]
  },
  {
   "cell_type": "markdown",
   "id": "b8053202",
   "metadata": {},
   "source": [
    "Look at countries with **gold medals**:"
   ]
  },
  {
   "cell_type": "code",
   "execution_count": 330,
   "id": "b9097cd6",
   "metadata": {},
   "outputs": [
    {
     "data": {
      "text/plain": [
       "United States    2474\n",
       "Soviet Union     1058\n",
       "Germany           679\n",
       "Italy             535\n",
       "Great Britain     519\n",
       "                 ... \n",
       "Mozambique          1\n",
       "Belgium-1           1\n",
       "Tajikistan          1\n",
       "Burundi             1\n",
       "Satchmo             1\n",
       "Name: Team, Length: 242, dtype: int64"
      ]
     },
     "execution_count": 330,
     "metadata": {},
     "output_type": "execute_result"
    }
   ],
   "source": [
    "data[data['Medal'] == 0]['Team'].value_counts()"
   ]
  },
  {
   "cell_type": "markdown",
   "id": "6d405708",
   "metadata": {},
   "source": [
    "Look at countries with **silver medals**:"
   ]
  },
  {
   "cell_type": "code",
   "execution_count": 325,
   "id": "4194761c",
   "metadata": {},
   "outputs": [
    {
     "data": {
      "text/plain": [
       "United States    1512\n",
       "Soviet Union      716\n",
       "Germany           627\n",
       "Great Britain     582\n",
       "France            518\n",
       "                 ... \n",
       "Zambia              1\n",
       "Sunrise             1\n",
       "Niger               1\n",
       "Botswana            1\n",
       "Tonga               1\n",
       "Name: Team, Length: 273, dtype: int64"
      ]
     },
     "execution_count": 325,
     "metadata": {},
     "output_type": "execute_result"
    }
   ],
   "source": [
    "data[data['Medal'] == 1]['Team'].value_counts()"
   ]
  },
  {
   "cell_type": "markdown",
   "id": "c7f0930c",
   "metadata": {},
   "source": [
    "Look at countries with **bronze medals**:"
   ]
  },
  {
   "cell_type": "code",
   "execution_count": 326,
   "id": "b89f21e7",
   "metadata": {
    "scrolled": true
   },
   "outputs": [
    {
     "data": {
      "text/plain": [
       "United States    1233\n",
       "Germany           678\n",
       "Soviet Union      677\n",
       "France            577\n",
       "Great Britain     572\n",
       "                 ... \n",
       "Suriname            1\n",
       "Zimbabwe            1\n",
       "Djibouti            1\n",
       "Frimousse           1\n",
       "Digby               1\n",
       "Name: Team, Length: 268, dtype: int64"
      ]
     },
     "execution_count": 326,
     "metadata": {},
     "output_type": "execute_result"
    }
   ],
   "source": [
    "data[data['Medal'] == 2]['Team'].value_counts()"
   ]
  },
  {
   "cell_type": "markdown",
   "id": "ddfce45e",
   "metadata": {},
   "source": [
    "Now we can say that United States has **2 times more medals of all types** than other countries"
   ]
  },
  {
   "cell_type": "markdown",
   "id": "2bf21f22",
   "metadata": {},
   "source": [
    "Try to draw **matrix of correlations**: \\\n",
    "First of all we have to vectorize string variable Team"
   ]
  },
  {
   "cell_type": "code",
   "execution_count": 366,
   "id": "96bb7d79",
   "metadata": {},
   "outputs": [],
   "source": [
    "new_data = data[['Team', 'Medal']]"
   ]
  },
  {
   "cell_type": "code",
   "execution_count": 369,
   "id": "5e8875fd",
   "metadata": {},
   "outputs": [],
   "source": [
    "dict_teams = {v:k for k,v in enumerate(new_data[\"Team\"].unique())}"
   ]
  },
  {
   "cell_type": "code",
   "execution_count": 370,
   "id": "41f5b4fc",
   "metadata": {},
   "outputs": [
    {
     "name": "stderr",
     "output_type": "stream",
     "text": [
      "/var/folders/_y/cf4dygc14qx9g7l_tls72w940000gn/T/ipykernel_625/402241771.py:1: SettingWithCopyWarning: \n",
      "A value is trying to be set on a copy of a slice from a DataFrame\n",
      "\n",
      "See the caveats in the documentation: https://pandas.pydata.org/pandas-docs/stable/user_guide/indexing.html#returning-a-view-versus-a-copy\n",
      "  new_data[\"Team\"].replace(dict_teams, inplace=True)\n"
     ]
    }
   ],
   "source": [
    "new_data[\"Team\"].replace(dict_teams, inplace=True)"
   ]
  },
  {
   "cell_type": "code",
   "execution_count": 376,
   "id": "687f3c6e",
   "metadata": {},
   "outputs": [
    {
     "data": {
      "text/plain": [
       "<AxesSubplot: >"
      ]
     },
     "execution_count": 376,
     "metadata": {},
     "output_type": "execute_result"
    },
    {
     "data": {
      "image/png": "[encoded data removed]",
      "text/plain": [
       "<Figure size 640x480 with 2 Axes>"
      ]
     },
     "metadata": {},
     "output_type": "display_data"
    }
   ],
   "source": [
    "sns.heatmap(new_data.corr())"
   ]
  },
  {
   "cell_type": "code",
   "execution_count": 377,
   "id": "82f87908",
   "metadata": {},
   "outputs": [
    {
     "data": {
      "text/html": [
       "<div>\n",
       "<style scoped>\n",
       "    .dataframe tbody tr th:only-of-type {\n",
       "        vertical-align: middle;\n",
       "    }\n",
       "\n",
       "    .dataframe tbody tr th {\n",
       "        vertical-align: top;\n",
       "    }\n",
       "\n",
       "    .dataframe thead th {\n",
       "        text-align: right;\n",
       "    }\n",
       "</style>\n",
       "<table border=\"1\" class=\"dataframe\">\n",
       "  <thead>\n",
       "    <tr style=\"text-align: right;\">\n",
       "      <th></th>\n",
       "      <th>Team</th>\n",
       "      <th>Medal</th>\n",
       "    </tr>\n",
       "  </thead>\n",
       "  <tbody>\n",
       "    <tr>\n",
       "      <th>Team</th>\n",
       "      <td>1.000000</td>\n",
       "      <td>0.011597</td>\n",
       "    </tr>\n",
       "    <tr>\n",
       "      <th>Medal</th>\n",
       "      <td>0.011597</td>\n",
       "      <td>1.000000</td>\n",
       "    </tr>\n",
       "  </tbody>\n",
       "</table>\n",
       "</div>"
      ],
      "text/plain": [
       "           Team     Medal\n",
       "Team   1.000000  0.011597\n",
       "Medal  0.011597  1.000000"
      ]
     },
     "execution_count": 377,
     "metadata": {},
     "output_type": "execute_result"
    }
   ],
   "source": [
    "new_data.corr()"
   ]
  },
  {
   "cell_type": "markdown",
   "id": "cd634c5c",
   "metadata": {},
   "source": [
    "Matrix of correlations shows that there are no significant bind between these two variables (Team and Medals)"
   ]
  },
  {
   "cell_type": "code",
   "execution_count": null,
   "id": "afa5eb76",
   "metadata": {},
   "outputs": [],
   "source": []
  }
 ],
 "metadata": {
  "kernelspec": {
   "display_name": "Python 3 (ipykernel)",
   "language": "python",
   "name": "python3"
  },
  "language_info": {
   "codemirror_mode": {
    "name": "ipython",
    "version": 3
   },
   "file_extension": ".py",
   "mimetype": "text/x-python",
   "name": "python",
   "nbconvert_exporter": "python",
   "pygments_lexer": "ipython3",
   "version": "3.10.0"
  }
 },
 "nbformat": 4,
 "nbformat_minor": 5
}
